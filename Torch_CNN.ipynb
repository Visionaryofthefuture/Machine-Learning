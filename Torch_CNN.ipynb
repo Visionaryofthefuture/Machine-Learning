{
  "nbformat": 4,
  "nbformat_minor": 0,
  "metadata": {
    "colab": {
      "provenance": [],
      "gpuType": "T4",
      "authorship_tag": "ABX9TyO4SqbHAg1sNuvYdiJJvKGq",
      "include_colab_link": true
    },
    "kernelspec": {
      "name": "python3",
      "display_name": "Python 3"
    },
    "language_info": {
      "name": "python"
    },
    "accelerator": "GPU"
  },
  "cells": [
    {
      "cell_type": "markdown",
      "metadata": {
        "id": "view-in-github",
        "colab_type": "text"
      },
      "source": [
        "<a href=\"https://colab.research.google.com/github/Visionaryofthefuture/Machine-Learning/blob/main/Torch_CNN.ipynb\" target=\"_parent\"><img src=\"https://colab.research.google.com/assets/colab-badge.svg\" alt=\"Open In Colab\"/></a>"
      ]
    },
    {
      "cell_type": "code",
      "execution_count": 1,
      "metadata": {
        "colab": {
          "base_uri": "https://localhost:8080/"
        },
        "id": "oSsg9ouYGy_x",
        "outputId": "a1a1b750-9906-44bd-ad91-78f00a6c5236"
      },
      "outputs": [
        {
          "metadata": {
            "tags": null
          },
          "name": "stdout",
          "output_type": "stream",
          "text": [
            "Using device: cuda\n",
            "Downloading http://yann.lecun.com/exdb/mnist/train-images-idx3-ubyte.gz\n",
            "Failed to download (trying next):\n",
            "HTTP Error 403: Forbidden\n",
            "\n",
            "Downloading https://ossci-datasets.s3.amazonaws.com/mnist/train-images-idx3-ubyte.gz\n",
            "Downloading https://ossci-datasets.s3.amazonaws.com/mnist/train-images-idx3-ubyte.gz to mnist/MNIST/raw/train-images-idx3-ubyte.gz\n"
          ]
        },
        {
          "metadata": {
            "tags": null
          },
          "name": "stderr",
          "output_type": "stream",
          "text": [
            "100%|██████████| 9912422/9912422 [00:02<00:00, 4596402.55it/s]\n"
          ]
        },
        {
          "metadata": {
            "tags": null
          },
          "name": "stdout",
          "output_type": "stream",
          "text": [
            "Extracting mnist/MNIST/raw/train-images-idx3-ubyte.gz to mnist/MNIST/raw\n",
            "\n",
            "Downloading http://yann.lecun.com/exdb/mnist/train-labels-idx1-ubyte.gz\n",
            "Failed to download (trying next):\n",
            "HTTP Error 403: Forbidden\n",
            "\n",
            "Downloading https://ossci-datasets.s3.amazonaws.com/mnist/train-labels-idx1-ubyte.gz\n",
            "Downloading https://ossci-datasets.s3.amazonaws.com/mnist/train-labels-idx1-ubyte.gz to mnist/MNIST/raw/train-labels-idx1-ubyte.gz\n"
          ]
        },
        {
          "metadata": {
            "tags": null
          },
          "name": "stderr",
          "output_type": "stream",
          "text": [
            "100%|██████████| 28881/28881 [00:00<00:00, 133702.97it/s]\n"
          ]
        },
        {
          "metadata": {
            "tags": null
          },
          "name": "stdout",
          "output_type": "stream",
          "text": [
            "Extracting mnist/MNIST/raw/train-labels-idx1-ubyte.gz to mnist/MNIST/raw\n",
            "\n",
            "Downloading http://yann.lecun.com/exdb/mnist/t10k-images-idx3-ubyte.gz\n",
            "Failed to download (trying next):\n",
            "HTTP Error 403: Forbidden\n",
            "\n",
            "Downloading https://ossci-datasets.s3.amazonaws.com/mnist/t10k-images-idx3-ubyte.gz\n",
            "Downloading https://ossci-datasets.s3.amazonaws.com/mnist/t10k-images-idx3-ubyte.gz to mnist/MNIST/raw/t10k-images-idx3-ubyte.gz\n"
          ]
        },
        {
          "metadata": {
            "tags": null
          },
          "name": "stderr",
          "output_type": "stream",
          "text": [
            "100%|██████████| 1648877/1648877 [00:06<00:00, 273246.52it/s]\n"
          ]
        },
        {
          "metadata": {
            "tags": null
          },
          "name": "stdout",
          "output_type": "stream",
          "text": [
            "Extracting mnist/MNIST/raw/t10k-images-idx3-ubyte.gz to mnist/MNIST/raw\n",
            "\n",
            "Downloading http://yann.lecun.com/exdb/mnist/t10k-labels-idx1-ubyte.gz\n",
            "Failed to download (trying next):\n",
            "HTTP Error 403: Forbidden\n",
            "\n",
            "Downloading https://ossci-datasets.s3.amazonaws.com/mnist/t10k-labels-idx1-ubyte.gz\n",
            "Downloading https://ossci-datasets.s3.amazonaws.com/mnist/t10k-labels-idx1-ubyte.gz to mnist/MNIST/raw/t10k-labels-idx1-ubyte.gz\n"
          ]
        },
        {
          "metadata": {
            "tags": null
          },
          "name": "stderr",
          "output_type": "stream",
          "text": [
            "100%|██████████| 4542/4542 [00:00<00:00, 4566282.06it/s]\n"
          ]
        },
        {
          "output_type": "stream",
          "name": "stdout",
          "text": [
            "Extracting mnist/MNIST/raw/t10k-labels-idx1-ubyte.gz to mnist/MNIST/raw\n",
            "\n",
            "Epoch [1/10], Step [50], Loss: 2.2487, Accuracy: 40.18%\n",
            "Epoch [1/10], Step [100], Loss: 1.9985, Accuracy: 67.00%\n",
            "Epoch [1/10], Step [150], Loss: 1.3125, Accuracy: 80.52%\n",
            "Epoch [1/10], Step [200], Loss: 0.6827, Accuracy: 85.47%\n",
            "Epoch [1/10], Step [250], Loss: 0.4952, Accuracy: 87.56%\n",
            "Epoch [1/10], Step [300], Loss: 0.4450, Accuracy: 86.25%\n",
            "Epoch [1/10], Step [350], Loss: 0.4248, Accuracy: 87.68%\n",
            "Epoch [1/10], Step [400], Loss: 0.3824, Accuracy: 89.88%\n",
            "Epoch [1/10], Step [450], Loss: 0.3540, Accuracy: 88.78%\n",
            "Epoch [2/10], Step [50], Loss: 0.3641, Accuracy: 90.87%\n",
            "Epoch [2/10], Step [100], Loss: 0.3284, Accuracy: 91.41%\n",
            "Epoch [2/10], Step [150], Loss: 0.3370, Accuracy: 90.65%\n",
            "Epoch [2/10], Step [200], Loss: 0.3175, Accuracy: 91.42%\n",
            "Epoch [2/10], Step [250], Loss: 0.3073, Accuracy: 90.66%\n",
            "Epoch [2/10], Step [300], Loss: 0.3001, Accuracy: 88.89%\n",
            "Epoch [2/10], Step [350], Loss: 0.3084, Accuracy: 92.07%\n",
            "Epoch [2/10], Step [400], Loss: 0.2733, Accuracy: 92.59%\n",
            "Epoch [2/10], Step [450], Loss: 0.2644, Accuracy: 92.83%\n",
            "Epoch [3/10], Step [50], Loss: 0.2686, Accuracy: 92.23%\n",
            "Epoch [3/10], Step [100], Loss: 0.2409, Accuracy: 93.07%\n",
            "Epoch [3/10], Step [150], Loss: 0.2315, Accuracy: 93.69%\n",
            "Epoch [3/10], Step [200], Loss: 0.2362, Accuracy: 93.81%\n",
            "Epoch [3/10], Step [250], Loss: 0.2231, Accuracy: 93.70%\n",
            "Epoch [3/10], Step [300], Loss: 0.2350, Accuracy: 93.94%\n",
            "Epoch [3/10], Step [350], Loss: 0.2133, Accuracy: 94.49%\n",
            "Epoch [3/10], Step [400], Loss: 0.2191, Accuracy: 94.20%\n",
            "Epoch [3/10], Step [450], Loss: 0.2135, Accuracy: 94.21%\n",
            "Epoch [4/10], Step [50], Loss: 0.2157, Accuracy: 95.04%\n",
            "Epoch [4/10], Step [100], Loss: 0.1864, Accuracy: 94.83%\n",
            "Epoch [4/10], Step [150], Loss: 0.1760, Accuracy: 94.73%\n",
            "Epoch [4/10], Step [200], Loss: 0.1686, Accuracy: 95.07%\n",
            "Epoch [4/10], Step [250], Loss: 0.1731, Accuracy: 94.85%\n",
            "Epoch [4/10], Step [300], Loss: 0.1769, Accuracy: 95.30%\n",
            "Epoch [4/10], Step [350], Loss: 0.1604, Accuracy: 95.56%\n",
            "Epoch [4/10], Step [400], Loss: 0.1722, Accuracy: 95.89%\n",
            "Epoch [4/10], Step [450], Loss: 0.1641, Accuracy: 95.80%\n",
            "Epoch [5/10], Step [50], Loss: 0.1517, Accuracy: 95.78%\n",
            "Epoch [5/10], Step [100], Loss: 0.1413, Accuracy: 95.85%\n",
            "Epoch [5/10], Step [150], Loss: 0.1423, Accuracy: 96.24%\n",
            "Epoch [5/10], Step [200], Loss: 0.1377, Accuracy: 96.27%\n",
            "Epoch [5/10], Step [250], Loss: 0.1437, Accuracy: 96.22%\n",
            "Epoch [5/10], Step [300], Loss: 0.1364, Accuracy: 96.39%\n",
            "Epoch [5/10], Step [350], Loss: 0.1348, Accuracy: 96.17%\n",
            "Epoch [5/10], Step [400], Loss: 0.1272, Accuracy: 96.34%\n",
            "Epoch [5/10], Step [450], Loss: 0.1191, Accuracy: 96.46%\n",
            "Epoch [6/10], Step [50], Loss: 0.1265, Accuracy: 96.84%\n",
            "Epoch [6/10], Step [100], Loss: 0.1247, Accuracy: 97.02%\n",
            "Epoch [6/10], Step [150], Loss: 0.1105, Accuracy: 96.19%\n",
            "Epoch [6/10], Step [200], Loss: 0.1161, Accuracy: 97.14%\n",
            "Epoch [6/10], Step [250], Loss: 0.1131, Accuracy: 96.88%\n",
            "Epoch [6/10], Step [300], Loss: 0.1086, Accuracy: 96.95%\n",
            "Epoch [6/10], Step [350], Loss: 0.1042, Accuracy: 96.84%\n",
            "Epoch [6/10], Step [400], Loss: 0.1076, Accuracy: 97.04%\n",
            "Epoch [6/10], Step [450], Loss: 0.1087, Accuracy: 97.35%\n",
            "Epoch [7/10], Step [50], Loss: 0.1032, Accuracy: 96.85%\n",
            "Epoch [7/10], Step [100], Loss: 0.1076, Accuracy: 97.26%\n",
            "Epoch [7/10], Step [150], Loss: 0.0959, Accuracy: 97.27%\n",
            "Epoch [7/10], Step [200], Loss: 0.1009, Accuracy: 97.23%\n",
            "Epoch [7/10], Step [250], Loss: 0.0946, Accuracy: 97.41%\n",
            "Epoch [7/10], Step [300], Loss: 0.0831, Accuracy: 97.40%\n",
            "Epoch [7/10], Step [350], Loss: 0.0999, Accuracy: 97.44%\n",
            "Epoch [7/10], Step [400], Loss: 0.0926, Accuracy: 97.22%\n",
            "Epoch [7/10], Step [450], Loss: 0.0933, Accuracy: 97.48%\n",
            "Epoch [8/10], Step [50], Loss: 0.0794, Accuracy: 97.68%\n",
            "Epoch [8/10], Step [100], Loss: 0.0893, Accuracy: 97.53%\n",
            "Epoch [8/10], Step [150], Loss: 0.0877, Accuracy: 97.56%\n",
            "Epoch [8/10], Step [200], Loss: 0.0870, Accuracy: 97.64%\n",
            "Epoch [8/10], Step [250], Loss: 0.0870, Accuracy: 97.56%\n",
            "Epoch [8/10], Step [300], Loss: 0.0870, Accuracy: 97.57%\n",
            "Epoch [8/10], Step [350], Loss: 0.0724, Accuracy: 97.71%\n",
            "Epoch [8/10], Step [400], Loss: 0.0837, Accuracy: 97.91%\n",
            "Epoch [8/10], Step [450], Loss: 0.0824, Accuracy: 97.73%\n",
            "Epoch [9/10], Step [50], Loss: 0.0756, Accuracy: 97.83%\n",
            "Epoch [9/10], Step [100], Loss: 0.0725, Accuracy: 97.91%\n",
            "Epoch [9/10], Step [150], Loss: 0.0743, Accuracy: 97.62%\n",
            "Epoch [9/10], Step [200], Loss: 0.0721, Accuracy: 97.96%\n",
            "Epoch [9/10], Step [250], Loss: 0.0789, Accuracy: 97.80%\n",
            "Epoch [9/10], Step [300], Loss: 0.0785, Accuracy: 97.79%\n",
            "Epoch [9/10], Step [350], Loss: 0.0770, Accuracy: 98.03%\n",
            "Epoch [9/10], Step [400], Loss: 0.0736, Accuracy: 98.02%\n",
            "Epoch [9/10], Step [450], Loss: 0.0736, Accuracy: 97.98%\n",
            "Epoch [10/10], Step [50], Loss: 0.0725, Accuracy: 97.81%\n",
            "Epoch [10/10], Step [100], Loss: 0.0675, Accuracy: 97.90%\n",
            "Epoch [10/10], Step [150], Loss: 0.0745, Accuracy: 98.10%\n",
            "Epoch [10/10], Step [200], Loss: 0.0704, Accuracy: 98.00%\n",
            "Epoch [10/10], Step [250], Loss: 0.0729, Accuracy: 98.22%\n",
            "Epoch [10/10], Step [300], Loss: 0.0615, Accuracy: 98.10%\n",
            "Epoch [10/10], Step [350], Loss: 0.0615, Accuracy: 98.06%\n",
            "Epoch [10/10], Step [400], Loss: 0.0730, Accuracy: 97.91%\n",
            "Epoch [10/10], Step [450], Loss: 0.0632, Accuracy: 98.03%\n",
            "Finished Training\n"
          ]
        }
      ],
      "source": [
        "import torch\n",
        "import torchvision.datasets as datasets\n",
        "import torchvision.transforms as transforms\n",
        "import torch.optim as optim\n",
        "import torch.nn as nn\n",
        "import torch.nn.functional as F\n",
        "\n",
        "device = torch.device(\"cuda\" if torch.cuda.is_available() else \"cpu\")\n",
        "print(f\"Using device: {device}\")\n",
        "\n",
        "transform = transforms.Compose([transforms.ToTensor(), transforms.Normalize((0.5,), (0.5,))])\n",
        "\n",
        "train_dataset = datasets.MNIST(root='mnist', train=True, download=True, transform=transform)\n",
        "test_dataset = datasets.MNIST(root='mnist', train=False, download=True, transform=transform)\n",
        "\n",
        "trainloader = torch.utils.data.DataLoader(train_dataset, batch_size=128, shuffle=True)\n",
        "testloader = torch.utils.data.DataLoader(test_dataset, batch_size=128, shuffle=False)\n",
        "\n",
        "class Net(nn.Module):\n",
        "    def __init__(self):\n",
        "        super(Net, self).__init__()\n",
        "        self.conv1 = nn.Conv2d(1, 32, 3, 1, 1)  # 28x28 -> 28x28\n",
        "        self.conv2 = nn.Conv2d(32, 64, 3, 1, 1) # 28x28 -> 28x28\n",
        "        self.pool = nn.MaxPool2d(2, 2)          # 28x28 -> 14x14\n",
        "        self.fc1 = nn.Linear(64 * 14 * 14, 128) # Adjusted based on pooling\n",
        "        self.fc2 = nn.Linear(128, 10)\n",
        "\n",
        "    def forward(self, x):\n",
        "        x = F.relu(self.conv1(x))\n",
        "        x = self.pool(F.relu(self.conv2(x)))\n",
        "        x = x.view(-1, 64 * 14 * 14)\n",
        "        x = F.relu(self.fc1(x))\n",
        "        x = self.fc2(x)\n",
        "        return x\n",
        "\n",
        "net = Net().to(device)\n",
        "\n",
        "criterion = nn.CrossEntropyLoss()\n",
        "optimizer = optim.SGD(net.parameters(), lr=0.001, momentum=0.9)\n",
        "\n",
        "epochs = 10\n",
        "for epoch in range(epochs):\n",
        "    running_loss = 0.0\n",
        "    for i, data in enumerate(trainloader, 0):\n",
        "        inputs, labels = data\n",
        "        inputs, labels = inputs.to(device), labels.to(device)\n",
        "\n",
        "        optimizer.zero_grad()\n",
        "\n",
        "        outputs = net(inputs)\n",
        "        loss = criterion(outputs, labels)\n",
        "        loss.backward()\n",
        "        optimizer.step()\n",
        "\n",
        "        running_loss += loss.item()\n",
        "        if i % 50 == 49:\n",
        "            correct = 0\n",
        "            total = 0\n",
        "            with torch.no_grad():\n",
        "                for data in testloader:\n",
        "                    images, labels = data\n",
        "                    images, labels = images.to(device), labels.to(device)\n",
        "                    outputs = net(images)\n",
        "                    _, predicted = torch.max(outputs, 1)\n",
        "                    total += labels.size(0)\n",
        "                    correct += (predicted == labels).sum().item()\n",
        "\n",
        "            accuracy = 100 * correct / total\n",
        "            print(f\"Epoch [{epoch + 1}/{epochs}], Step [{i + 1}], Loss: {running_loss / 50:.4f}, Accuracy: {accuracy:.2f}%\")\n",
        "            running_loss = 0.0\n",
        "\n",
        "print(\"Finished Training\")\n"
      ]
    },
    {
      "cell_type": "code",
      "source": [
        "path = \"./mnist_cnn_net.pth\"\n",
        "torch.save(net.state_dict(), path)"
      ],
      "metadata": {
        "id": "p5H6L1g3LCjq"
      },
      "execution_count": 2,
      "outputs": []
    },
    {
      "cell_type": "code",
      "source": [
        "import torch\n",
        "\n",
        "# Assuming the rest of the code above is already in place\n",
        "\n",
        "# Load test data\n",
        "dataiter = iter(testloader)\n",
        "images, labels = next(dataiter)\n",
        "\n",
        "# Load the saved model state\n",
        "net.load_state_dict(torch.load(path))\n",
        "net.eval()  # Set the model to evaluation mode\n",
        "\n",
        "# Move images and labels to the device\n",
        "images = images.to(device)\n",
        "labels = labels.to(device)\n",
        "\n",
        "# Make predictions\n",
        "outputs = net(images)\n",
        "_, predicted = torch.max(outputs, 1)\n",
        "\n",
        "# Print predictions\n",
        "print('Predicted: ', ' '.join(f'{predicted[j].item()}' for j in range(123)))\n",
        "print('Actual:    ', ' '.join(f'{labels[j].item()}' for j in range(123)))\n",
        "for i in range(len(predicted)):\n",
        "  if predicted[i]!= labels[i]:\n",
        "    print(f\"Predicted: {predicted[i].item()}, Actual: {labels[i].item()}\")"
      ],
      "metadata": {
        "colab": {
          "base_uri": "https://localhost:8080/"
        },
        "id": "T6k66ukQG8bR",
        "outputId": "46227596-058e-41a7-b076-f0fc235818bf"
      },
      "execution_count": 13,
      "outputs": [
        {
          "output_type": "stream",
          "name": "stdout",
          "text": [
            "Predicted:  7 2 1 0 4 1 4 9 5 9 0 6 9 0 1 5 9 7 3 4 9 6 6 5 4 0 7 4 0 1 3 1 3 4 7 2 7 1 2 1 1 7 4 2 3 5 1 2 4 4 6 3 5 5 6 0 4 1 9 5 7 8 9 3 7 4 6 4 3 0 7 0 2 9 1 7 3 2 9 7 7 6 2 7 8 4 7 3 6 1 3 6 9 3 1 4 1 7 6 9 6 0 5 4 9 9 2 1 9 4 8 7 3 9 7 9 4 4 9 2 5 4 7\n",
            "Actual:     7 2 1 0 4 1 4 9 5 9 0 6 9 0 1 5 9 7 3 4 9 6 6 5 4 0 7 4 0 1 3 1 3 4 7 2 7 1 2 1 1 7 4 2 3 5 1 2 4 4 6 3 5 5 6 0 4 1 9 5 7 8 9 3 7 4 6 4 3 0 7 0 2 9 1 7 3 2 9 7 7 6 2 7 8 4 7 3 6 1 3 6 9 3 1 4 1 7 6 9 6 0 5 4 9 9 2 1 9 4 8 7 3 9 7 4 4 4 9 2 5 4 7\n",
            "Predicted: 9, Actual: 4\n"
          ]
        }
      ]
    },
    {
      "cell_type": "code",
      "source": [],
      "metadata": {
        "id": "laGv6Hf4Lctn"
      },
      "execution_count": null,
      "outputs": []
    }
  ]
}